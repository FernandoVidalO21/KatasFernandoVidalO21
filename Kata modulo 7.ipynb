{
 "cells": [
  {
   "cell_type": "markdown",
   "metadata": {},
   "source": [
    "Ejercicio No.1 \n",
    "\n",
    "Creación de un bucle \"While\""
   ]
  },
  {
   "cell_type": "code",
   "execution_count": null,
   "metadata": {},
   "outputs": [],
   "source": [
    "new_planet=input(\"Introduce nombres de planetas: \")\n",
    "planets=[]\n",
    "\n",
    "while new_planet.lower() != \"done\":\n",
    "    if new_planet:\n",
    "        planets.append(new_planet)\n",
    "    new_planet=input(\"Ingresa otro planeta: \")\n"
   ]
  },
  {
   "cell_type": "markdown",
   "metadata": {},
   "source": [
    "Ejercicio No.2\n",
    "\n",
    "Creación de un ciclo \"For\""
   ]
  },
  {
   "cell_type": "code",
   "execution_count": 12,
   "metadata": {},
   "outputs": [
    {
     "name": "stdout",
     "output_type": "stream",
     "text": [
      "Marte\n",
      "Tierra\n",
      "Mercurio\n",
      "Venus\n"
     ]
    }
   ],
   "source": [
    "from time import sleep\n",
    "for lista in planets:\n",
    "    print(lista)\n",
    "    sleep(2)\n",
    "    "
   ]
  }
 ],
 "metadata": {
  "interpreter": {
   "hash": "5c5a984633f22264aa8815d65eacb6fdbfea32288cfd52e1b827510b24f8641a"
  },
  "kernelspec": {
   "display_name": "Python 3.10.2 64-bit",
   "language": "python",
   "name": "python3"
  },
  "language_info": {
   "codemirror_mode": {
    "name": "ipython",
    "version": 3
   },
   "file_extension": ".py",
   "mimetype": "text/x-python",
   "name": "python",
   "nbconvert_exporter": "python",
   "pygments_lexer": "ipython3",
   "version": "3.10.2"
  },
  "orig_nbformat": 4
 },
 "nbformat": 4,
 "nbformat_minor": 2
}
