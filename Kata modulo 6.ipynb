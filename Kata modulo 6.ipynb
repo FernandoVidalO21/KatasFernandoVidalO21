{
 "cells": [
  {
   "cell_type": "markdown",
   "metadata": {},
   "source": [
    "Ejercicio No.1\n",
    "\n",
    "Usar listas para almacenar nombres de planetas"
   ]
  },
  {
   "cell_type": "code",
   "execution_count": 18,
   "metadata": {},
   "outputs": [
    {
     "name": "stdout",
     "output_type": "stream",
     "text": [
      "Hay 8 planetas en el sistema Solar\n"
     ]
    }
   ],
   "source": [
    "planets=[\"Mercurio\",\"Venus\",\"Tierra\",\"Marte\",\"Júpiter\",\"Saturno\",\"Urano\",\"Neptuno\"]\n",
    "print(\"Hay\", len(planets), \"planetas en el sistema Solar\")\n",
    "\n"
   ]
  },
  {
   "cell_type": "code",
   "execution_count": 20,
   "metadata": {},
   "outputs": [
    {
     "name": "stdout",
     "output_type": "stream",
     "text": [
      "El ultimo planeta del sistema Solar es Pluto\n"
     ]
    }
   ],
   "source": [
    "planets=[\"Mercurio\",\"Venus\",\"Tierra\",\"Marte\",\"Júpiter\",\"Saturno\",\"Urano\",\"Neptuno\"]\n",
    "planets.append(\"Pluto\")\n",
    "print(\"El ultimo planeta del sistema Solar es\",planets[-1])\n"
   ]
  },
  {
   "cell_type": "markdown",
   "metadata": {},
   "source": [
    "Ejercicio No.2\n",
    "\n",
    "Uso de slices para recuperar partes de una lista"
   ]
  },
  {
   "cell_type": "code",
   "execution_count": 37,
   "metadata": {},
   "outputs": [
    {
     "name": "stdout",
     "output_type": "stream",
     "text": [
      "La posición del planeta seleccionado con respecto al Sol es: 3\n"
     ]
    }
   ],
   "source": [
    "int_planet=input(\"Introduce el nombre de un planeta iniciando con mayuscula: \")\n",
    "index=planets.index(int_planet) + 1 \n",
    "\n",
    "print(\"La posición del planeta seleccionado con respecto al Sol es:\",index)"
   ]
  },
  {
   "cell_type": "markdown",
   "metadata": {},
   "source": [
    "Planetas mas cercanos al Sol"
   ]
  },
  {
   "cell_type": "code",
   "execution_count": 38,
   "metadata": {},
   "outputs": [
    {
     "name": "stdout",
     "output_type": "stream",
     "text": [
      "Los planetas mas cercanos al sol con respecto al planeta Tierra son:\n",
      "['Mercurio', 'Venus']\n"
     ]
    }
   ],
   "source": [
    "print(\"Los planetas mas cercanos al sol con respecto al planeta \" + int_planet, \"son:\")\n",
    "print(planets[0:index-1])"
   ]
  },
  {
   "cell_type": "markdown",
   "metadata": {},
   "source": [
    "Planetas mas lejanos al Sol"
   ]
  },
  {
   "cell_type": "code",
   "execution_count": 39,
   "metadata": {},
   "outputs": [
    {
     "name": "stdout",
     "output_type": "stream",
     "text": [
      "Los planetas mas lejanos al sol con respecto al planeta Tierra son:\n",
      "['Júpiter', 'Saturno', 'Urano', 'Neptuno', 'Pluto']\n"
     ]
    }
   ],
   "source": [
    "print(\"Los planetas mas lejanos al sol con respecto al planeta \"+ int_planet, \"son:\")\n",
    "print(planets[index+1:])"
   ]
  }
 ],
 "metadata": {
  "interpreter": {
   "hash": "5c5a984633f22264aa8815d65eacb6fdbfea32288cfd52e1b827510b24f8641a"
  },
  "kernelspec": {
   "display_name": "Python 3.10.2 64-bit",
   "language": "python",
   "name": "python3"
  },
  "language_info": {
   "codemirror_mode": {
    "name": "ipython",
    "version": 3
   },
   "file_extension": ".py",
   "mimetype": "text/x-python",
   "name": "python",
   "nbconvert_exporter": "python",
   "pygments_lexer": "ipython3",
   "version": "3.10.2"
  },
  "orig_nbformat": 4
 },
 "nbformat": 4,
 "nbformat_minor": 2
}
