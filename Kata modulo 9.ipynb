{
 "cells": [
  {
   "cell_type": "markdown",
   "metadata": {},
   "source": [
    "Ejercicio No.1\n",
    "\n",
    "Uso de funciones\n",
    "\n",
    "Trabajar con argumentos"
   ]
  },
  {
   "cell_type": "code",
   "execution_count": null,
   "metadata": {},
   "outputs": [],
   "source": [
    "def combustible(tanque1,tanque2,tanque3):\n",
    "    promedio=(tanque1+tanque2+tanque3)/3\n",
    "    return f\"\"\"Reporte Combustible\n",
    "    Combustible promedio: {promedio} %\n",
    "    Tanque 1: {tanque1} %\n",
    "    Tanque 2: {tanque2} %\n",
    "    Tanque 3: {tanque3} %\n",
    "     \"\"\"\n",
    "print(combustible(80,70,85))"
   ]
  },
  {
   "cell_type": "markdown",
   "metadata": {},
   "source": [
    "Funcion promedio"
   ]
  },
  {
   "cell_type": "code",
   "execution_count": null,
   "metadata": {},
   "outputs": [],
   "source": [
    "def prom(datos):\n",
    "    total=sum(datos)\n",
    "    noi=len(datos)\n",
    "    return total/noi\n",
    "\n",
    "print(\"Combustible promedio:\",promedio([80,85,81]),\"galones\")\n"
   ]
  },
  {
   "cell_type": "markdown",
   "metadata": {},
   "source": [
    "Actualización de la función"
   ]
  },
  {
   "cell_type": "code",
   "execution_count": null,
   "metadata": {},
   "outputs": [],
   "source": [
    "def combustible(tanque1,tanque2,tanque3):\n",
    "    return f\"\"\"Reporte Combustible\n",
    "    Combustible promedio: {prom([tanque1,tanque2,tanque3])} %\n",
    "    Tanque 1: {tanque1} %\n",
    "    Tanque 2: {tanque2} %\n",
    "    Tanque 3: {tanque3} %\n",
    "     \"\"\"\n",
    "print(combustible(80,70,85))"
   ]
  },
  {
   "cell_type": "markdown",
   "metadata": {},
   "source": [
    "Ejercicio No.2\n",
    "\n",
    "Trabajo con argumentos de palabra clave en funciones\n",
    "\n",
    "Informe precisio de la misión"
   ]
  },
  {
   "cell_type": "code",
   "execution_count": null,
   "metadata": {},
   "outputs": [],
   "source": [
    "def info(hdl,tv,des,tanque1,tanque2):\n",
    "    return f\"\"\" Reporte de Cohete\n",
    "    Destino: {des}\n",
    "    Tiempo de vuelo: {hdl+tv} minutos\n",
    "    Combustible total: {tanque1+tanque2} galones\n",
    "    \"\"\"\n",
    "print(info(14,51,\"Moon\",200000,300000))\n"
   ]
  },
  {
   "cell_type": "markdown",
   "metadata": {},
   "source": [
    "Informe con argumentos de variable y argumentos de palabra clave variable"
   ]
  },
  {
   "cell_type": "code",
   "execution_count": null,
   "metadata": {},
   "outputs": [],
   "source": [
    "def info(des,*min,**combus):\n",
    "    return f\"\"\" Reporte de Cohete\n",
    "    Destino: {des}\n",
    "    Tiempo de vuelo: {sum(min)} minutos\n",
    "    Combustible total: {sum(combus.values())} galones\n",
    "    \"\"\"\n",
    "print(info(\"Moon\",10,15,51,interno=300000,externo=200000))\n"
   ]
  },
  {
   "cell_type": "markdown",
   "metadata": {},
   "source": [
    "Informe con combustibles independientes"
   ]
  },
  {
   "cell_type": "code",
   "execution_count": 62,
   "metadata": {},
   "outputs": [
    {
     "name": "stdout",
     "output_type": "stream",
     "text": [
      " Reporte de Cohete\n",
      "    Destino: Moon\n",
      "    Tiempo de vuelo: 71 minutos\n",
      "    Combustible total: 650000 galones\n",
      "    Tanque interno: 250000 galones \n",
      "    Tanque externo: 400000 galones \n",
      "    \n"
     ]
    }
   ],
   "source": [
    "def info(des,*min,**combus):\n",
    "    reporte = f\"\"\" Reporte de Cohete\n",
    "    Destino: {des}\n",
    "    Tiempo de vuelo: {sum(min)} minutos\n",
    "    Combustible total: {sum(combus.values())} galones\n",
    "    \"\"\"\n",
    "    for tanques, gallons in combus.items():\n",
    "        reporte += f\"Tanque {tanques}: {gallons} galones \\n    \"\n",
    "    return reporte\n",
    "\n",
    "print(info(\"Moon\",7,10,54, interno=250000, externo=400000))"
   ]
  }
 ],
 "metadata": {
  "interpreter": {
   "hash": "5c5a984633f22264aa8815d65eacb6fdbfea32288cfd52e1b827510b24f8641a"
  },
  "kernelspec": {
   "display_name": "Python 3.10.2 64-bit",
   "language": "python",
   "name": "python3"
  },
  "language_info": {
   "codemirror_mode": {
    "name": "ipython",
    "version": 3
   },
   "file_extension": ".py",
   "mimetype": "text/x-python",
   "name": "python",
   "nbconvert_exporter": "python",
   "pygments_lexer": "ipython3",
   "version": "3.10.2"
  },
  "orig_nbformat": 4
 },
 "nbformat": 4,
 "nbformat_minor": 2
}
