{
 "cells": [
  {
   "cell_type": "markdown",
   "metadata": {},
   "source": [
    "Ejercicio\n",
    "\n",
    "Generación de Excepciones"
   ]
  },
  {
   "cell_type": "code",
   "execution_count": 10,
   "metadata": {},
   "outputs": [
    {
     "data": {
      "text/plain": [
       "'Agua total restante despues de 2 días es: -10 litros '"
      ]
     },
     "execution_count": 10,
     "metadata": {},
     "output_type": "execute_result"
    }
   ],
   "source": [
    "def agua_rest(astronautas, agua_restante,dias_restantes):\n",
    "    consumo_diario=astronautas*11\n",
    "    uso_total=consumo_diario*dias_restantes\n",
    "    uso_total_rest=agua_restante-uso_total\n",
    "    return f\"Agua total restante despues de {dias_restantes} días es: {uso_total_rest} litros \"\n",
    "agua_rest(5,100,2)"
   ]
  },
  {
   "cell_type": "code",
   "execution_count": null,
   "metadata": {},
   "outputs": [],
   "source": [
    "def agua_rest(astronautas, agua_restante,dias_restantes):\n",
    "    consumo_diario=astronautas*11\n",
    "    uso_total=consumo_diario*dias_restantes\n",
    "    uso_total_rest=agua_restante-uso_total\n",
    "    if uso_total_rest < 0:\n",
    "        raise RuntimeError(f\"No hay suficiente agua para {astronautas} astronautas despues de {dias_restantes} días !!!\")\n",
    "    return f\"Agua total restante despues de {dias_restantes} días es: {uso_total_rest} litros \"\n",
    "agua_rest(5,100,2)"
   ]
  },
  {
   "cell_type": "code",
   "execution_count": null,
   "metadata": {},
   "outputs": [],
   "source": [
    "try: \n",
    "    agua_rest(5,100,2)\n",
    "except RuntimeError as err:\n",
    "    alert_navigation_system(err)"
   ]
  },
  {
   "cell_type": "code",
   "execution_count": 6,
   "metadata": {},
   "outputs": [
    {
     "ename": "TypeError",
     "evalue": "can't multiply sequence by non-int of type 'NoneType'",
     "output_type": "error",
     "traceback": [
      "\u001b[1;31m---------------------------------------------------------------------------\u001b[0m",
      "\u001b[1;31mTypeError\u001b[0m                                 Traceback (most recent call last)",
      "\u001b[1;32mc:\\Users\\ferna\\Desktop\\Launch X\\Kata modulo 10.ipynb Cell 5'\u001b[0m in \u001b[0;36m<module>\u001b[1;34m\u001b[0m\n\u001b[1;32m----> <a href='vscode-notebook-cell:/c%3A/Users/ferna/Desktop/Launch%20X/Kata%20modulo%2010.ipynb#ch0000012?line=0'>1</a>\u001b[0m agua_rest(\u001b[39m\"\u001b[39;49m\u001b[39m3\u001b[39;49m\u001b[39m\"\u001b[39;49m,\u001b[39m\"\u001b[39;49m\u001b[39m200\u001b[39;49m\u001b[39m\"\u001b[39;49m,\u001b[39mNone\u001b[39;49;00m)\n",
      "\u001b[1;32mc:\\Users\\ferna\\Desktop\\Launch X\\Kata modulo 10.ipynb Cell 3'\u001b[0m in \u001b[0;36magua_rest\u001b[1;34m(astronautas, agua_restante, dias_restantes)\u001b[0m\n\u001b[0;32m      <a href='vscode-notebook-cell:/c%3A/Users/ferna/Desktop/Launch%20X/Kata%20modulo%2010.ipynb#ch0000010?line=0'>1</a>\u001b[0m \u001b[39mdef\u001b[39;00m \u001b[39magua_rest\u001b[39m(astronautas, agua_restante,dias_restantes):\n\u001b[0;32m      <a href='vscode-notebook-cell:/c%3A/Users/ferna/Desktop/Launch%20X/Kata%20modulo%2010.ipynb#ch0000010?line=1'>2</a>\u001b[0m     consumo_diario\u001b[39m=\u001b[39mastronautas\u001b[39m*\u001b[39m\u001b[39m11\u001b[39m\n\u001b[1;32m----> <a href='vscode-notebook-cell:/c%3A/Users/ferna/Desktop/Launch%20X/Kata%20modulo%2010.ipynb#ch0000010?line=2'>3</a>\u001b[0m     uso_total\u001b[39m=\u001b[39mconsumo_diario\u001b[39m*\u001b[39;49mdias_restantes\n\u001b[0;32m      <a href='vscode-notebook-cell:/c%3A/Users/ferna/Desktop/Launch%20X/Kata%20modulo%2010.ipynb#ch0000010?line=3'>4</a>\u001b[0m     uso_total_rest\u001b[39m=\u001b[39magua_restante\u001b[39m-\u001b[39muso_total\n\u001b[0;32m      <a href='vscode-notebook-cell:/c%3A/Users/ferna/Desktop/Launch%20X/Kata%20modulo%2010.ipynb#ch0000010?line=4'>5</a>\u001b[0m     \u001b[39mif\u001b[39;00m uso_total_rest \u001b[39m<\u001b[39m \u001b[39m0\u001b[39m:\n",
      "\u001b[1;31mTypeError\u001b[0m: can't multiply sequence by non-int of type 'NoneType'"
     ]
    }
   ],
   "source": [
    "agua_rest(\"3\",\"200\",None)"
   ]
  },
  {
   "cell_type": "code",
   "execution_count": 9,
   "metadata": {},
   "outputs": [
    {
     "ename": "TypeError",
     "evalue": "Todos los argumentos deben ser del tipo int, pero se recibieron: '3' ",
     "output_type": "error",
     "traceback": [
      "\u001b[1;31m---------------------------------------------------------------------------\u001b[0m",
      "\u001b[1;31mTypeError\u001b[0m                                 Traceback (most recent call last)",
      "\u001b[1;32mc:\\Users\\ferna\\Desktop\\Launch X\\Kata modulo 10.ipynb Cell 6'\u001b[0m in \u001b[0;36magua_rest\u001b[1;34m(astronautas, agua_restante, dias_restantes)\u001b[0m\n\u001b[0;32m      <a href='vscode-notebook-cell:/c%3A/Users/ferna/Desktop/Launch%20X/Kata%20modulo%2010.ipynb#ch0000013?line=2'>3</a>\u001b[0m \u001b[39mtry\u001b[39;00m:\n\u001b[1;32m----> <a href='vscode-notebook-cell:/c%3A/Users/ferna/Desktop/Launch%20X/Kata%20modulo%2010.ipynb#ch0000013?line=3'>4</a>\u001b[0m     argument\u001b[39m/\u001b[39;49m\u001b[39m10\u001b[39;49m\n\u001b[0;32m      <a href='vscode-notebook-cell:/c%3A/Users/ferna/Desktop/Launch%20X/Kata%20modulo%2010.ipynb#ch0000013?line=4'>5</a>\u001b[0m \u001b[39mexcept\u001b[39;00m \u001b[39mTypeError\u001b[39;00m:\n",
      "\u001b[1;31mTypeError\u001b[0m: unsupported operand type(s) for /: 'str' and 'int'",
      "\nDuring handling of the above exception, another exception occurred:\n",
      "\u001b[1;31mTypeError\u001b[0m                                 Traceback (most recent call last)",
      "\u001b[1;32mc:\\Users\\ferna\\Desktop\\Launch X\\Kata modulo 10.ipynb Cell 6'\u001b[0m in \u001b[0;36m<module>\u001b[1;34m\u001b[0m\n\u001b[0;32m     <a href='vscode-notebook-cell:/c%3A/Users/ferna/Desktop/Launch%20X/Kata%20modulo%2010.ipynb#ch0000013?line=11'>12</a>\u001b[0m         \u001b[39mraise\u001b[39;00m \u001b[39mRuntimeError\u001b[39;00m(\u001b[39mf\u001b[39m\u001b[39m\"\u001b[39m\u001b[39mNo hay suficiente agua para \u001b[39m\u001b[39m{\u001b[39;00mastronautas\u001b[39m}\u001b[39;00m\u001b[39m astronautas despues de \u001b[39m\u001b[39m{\u001b[39;00mdias_restantes\u001b[39m}\u001b[39;00m\u001b[39m días !!!\u001b[39m\u001b[39m\"\u001b[39m)\n\u001b[0;32m     <a href='vscode-notebook-cell:/c%3A/Users/ferna/Desktop/Launch%20X/Kata%20modulo%2010.ipynb#ch0000013?line=12'>13</a>\u001b[0m     \u001b[39mreturn\u001b[39;00m \u001b[39mf\u001b[39m\u001b[39m\"\u001b[39m\u001b[39mAgua total restante despues de \u001b[39m\u001b[39m{\u001b[39;00mdias_restantes\u001b[39m}\u001b[39;00m\u001b[39m días es: \u001b[39m\u001b[39m{\u001b[39;00muso_total_rest\u001b[39m}\u001b[39;00m\u001b[39m litros \u001b[39m\u001b[39m\"\u001b[39m\n\u001b[1;32m---> <a href='vscode-notebook-cell:/c%3A/Users/ferna/Desktop/Launch%20X/Kata%20modulo%2010.ipynb#ch0000013?line=13'>14</a>\u001b[0m agua_rest(\u001b[39m\"\u001b[39;49m\u001b[39m3\u001b[39;49m\u001b[39m\"\u001b[39;49m,\u001b[39m\"\u001b[39;49m\u001b[39m200\u001b[39;49m\u001b[39m\"\u001b[39;49m,\u001b[39mNone\u001b[39;49;00m)\n",
      "\u001b[1;32mc:\\Users\\ferna\\Desktop\\Launch X\\Kata modulo 10.ipynb Cell 6'\u001b[0m in \u001b[0;36magua_rest\u001b[1;34m(astronautas, agua_restante, dias_restantes)\u001b[0m\n\u001b[0;32m      <a href='vscode-notebook-cell:/c%3A/Users/ferna/Desktop/Launch%20X/Kata%20modulo%2010.ipynb#ch0000013?line=3'>4</a>\u001b[0m         argument\u001b[39m/\u001b[39m\u001b[39m10\u001b[39m\n\u001b[0;32m      <a href='vscode-notebook-cell:/c%3A/Users/ferna/Desktop/Launch%20X/Kata%20modulo%2010.ipynb#ch0000013?line=4'>5</a>\u001b[0m     \u001b[39mexcept\u001b[39;00m \u001b[39mTypeError\u001b[39;00m:\n\u001b[1;32m----> <a href='vscode-notebook-cell:/c%3A/Users/ferna/Desktop/Launch%20X/Kata%20modulo%2010.ipynb#ch0000013?line=5'>6</a>\u001b[0m         \u001b[39mraise\u001b[39;00m \u001b[39mTypeError\u001b[39;00m (\u001b[39mf\u001b[39m\u001b[39m\"\u001b[39m\u001b[39mTodos los argumentos deben ser del tipo int, pero se recibieron: \u001b[39m\u001b[39m'\u001b[39m\u001b[39m{\u001b[39;00margument\u001b[39m}\u001b[39;00m\u001b[39m'\u001b[39m\u001b[39m \u001b[39m\u001b[39m\"\u001b[39m)\n\u001b[0;32m      <a href='vscode-notebook-cell:/c%3A/Users/ferna/Desktop/Launch%20X/Kata%20modulo%2010.ipynb#ch0000013?line=6'>7</a>\u001b[0m consumo_diario\u001b[39m=\u001b[39m astronautas\u001b[39m*\u001b[39m\u001b[39m11\u001b[39m\n\u001b[0;32m      <a href='vscode-notebook-cell:/c%3A/Users/ferna/Desktop/Launch%20X/Kata%20modulo%2010.ipynb#ch0000013?line=7'>8</a>\u001b[0m uso_total\u001b[39m=\u001b[39mconsumo_diario\u001b[39m*\u001b[39mdias_restantes\n",
      "\u001b[1;31mTypeError\u001b[0m: Todos los argumentos deben ser del tipo int, pero se recibieron: '3' "
     ]
    }
   ],
   "source": [
    "def agua_rest(astronautas, agua_restante,dias_restantes):\n",
    "    for argument in [astronautas, agua_restante,dias_restantes]:\n",
    "        try:\n",
    "            argument/10\n",
    "        except TypeError:\n",
    "            raise TypeError (f\"Todos los argumentos deben ser del tipo int, pero se recibieron: '{argument}' \")\n",
    "    consumo_diario= astronautas*11\n",
    "    uso_total=consumo_diario*dias_restantes\n",
    "    uso_total_rest=agua_restante-uso_total\n",
    "\n",
    "    if uso_total_rest <0:\n",
    "        raise RuntimeError(f\"No hay suficiente agua para {astronautas} astronautas despues de {dias_restantes} días !!!\")\n",
    "    return f\"Agua total restante despues de {dias_restantes} días es: {uso_total_rest} litros \"\n",
    "agua_rest(\"3\",\"200\",None)"
   ]
  }
 ],
 "metadata": {
  "interpreter": {
   "hash": "5c5a984633f22264aa8815d65eacb6fdbfea32288cfd52e1b827510b24f8641a"
  },
  "kernelspec": {
   "display_name": "Python 3.10.2 64-bit",
   "language": "python",
   "name": "python3"
  },
  "language_info": {
   "codemirror_mode": {
    "name": "ipython",
    "version": 3
   },
   "file_extension": ".py",
   "mimetype": "text/x-python",
   "name": "python",
   "nbconvert_exporter": "python",
   "pygments_lexer": "ipython3",
   "version": "3.10.2"
  },
  "orig_nbformat": 4
 },
 "nbformat": 4,
 "nbformat_minor": 2
}
