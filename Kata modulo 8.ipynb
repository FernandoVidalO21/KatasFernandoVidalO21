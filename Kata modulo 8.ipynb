{
 "cells": [
  {
   "cell_type": "markdown",
   "metadata": {},
   "source": [
    "Ejercicio No.1\n",
    "\n",
    "Crear y modificar un diccionario"
   ]
  },
  {
   "cell_type": "code",
   "execution_count": 54,
   "metadata": {},
   "outputs": [
    {
     "name": "stdout",
     "output_type": "stream",
     "text": [
      "mars tiene 2 lunas\n"
     ]
    }
   ],
   "source": [
    "planet={\"name\":\"mars\",\"moons\":2}\n",
    "\n",
    "print(f'{planet[\"name\"]} tiene {planet.get(\"moons\")} lunas')\n",
    "\n",
    "\n",
    "\n",
    "\n",
    "\n",
    "\n"
   ]
  },
  {
   "cell_type": "markdown",
   "metadata": {},
   "source": [
    "Agregar datos de circunferencia"
   ]
  },
  {
   "cell_type": "code",
   "execution_count": 56,
   "metadata": {},
   "outputs": [
    {
     "name": "stdout",
     "output_type": "stream",
     "text": [
      "Nombre del planeta: \"mars\" Circunferencia polar: 6752\n"
     ]
    }
   ],
   "source": [
    "planet[\"circunferencia (km)\"]={\"polar\":6752,\"equatorial\":6792}\n",
    "\n",
    "print(f'Nombre del planeta: \"{planet[\"name\"]}\" Circunferencia polar: {planet[\"circunferencia (km)\"][\"polar\"]}')"
   ]
  },
  {
   "cell_type": "markdown",
   "metadata": {},
   "source": [
    "Ejercicio No.2\n",
    "\n",
    "Programación dinámica con diccionarios\n",
    "\n",
    "Cálculo de valores"
   ]
  },
  {
   "cell_type": "code",
   "execution_count": 90,
   "metadata": {},
   "outputs": [
    {
     "name": "stdout",
     "output_type": "stream",
     "text": [
      "Planetas totales:  12\n",
      "Lunas totales:  214\n",
      "Promedio de lunas por planeta:  17.833333333333332\n"
     ]
    }
   ],
   "source": [
    "planet_moons={'mercury':0,'venus':0,'earth':1,'mars':2,'jupiter':79,'saturn':82,'uranus':27,'neptune':14,'pluto':5,'haumea':2,'makemake':1,'eris':1}\n",
    "\n",
    "moons=planet_moons.values()\n",
    "planets=len(planet_moons)\n",
    "\n",
    "lunas_totales=0\n",
    "\n",
    "for moon in moons:\n",
    "    lunas_totales=lunas_totales + moon\n",
    "\n",
    "pr= lunas_totales/planets\n",
    "\n",
    "print(\"Planetas totales: \", planets)\n",
    "print(\"Lunas totales: \", lunas_totales)\n",
    "print(\"Promedio de lunas por planeta: \",pr)\n",
    "\n"
   ]
  }
 ],
 "metadata": {
  "interpreter": {
   "hash": "5c5a984633f22264aa8815d65eacb6fdbfea32288cfd52e1b827510b24f8641a"
  },
  "kernelspec": {
   "display_name": "Python 3.10.2 64-bit",
   "language": "python",
   "name": "python3"
  },
  "language_info": {
   "codemirror_mode": {
    "name": "ipython",
    "version": 3
   },
   "file_extension": ".py",
   "mimetype": "text/x-python",
   "name": "python",
   "nbconvert_exporter": "python",
   "pygments_lexer": "ipython3",
   "version": "3.10.2"
  },
  "orig_nbformat": 4
 },
 "nbformat": 4,
 "nbformat_minor": 2
}
