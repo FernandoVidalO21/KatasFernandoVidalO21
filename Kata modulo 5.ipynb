{
 "cells": [
  {
   "cell_type": "markdown",
   "metadata": {},
   "source": [
    "Ejercicio No.1\n",
    "\n",
    "Distancia entre la Tierra y Jupiter"
   ]
  },
  {
   "cell_type": "code",
   "execution_count": 18,
   "metadata": {},
   "outputs": [
    {
     "name": "stdout",
     "output_type": "stream",
     "text": [
      "628949330 Kilometros\n",
      "390577533.93 Millas\n"
     ]
    }
   ],
   "source": [
    "pos_tierra=149597870\n",
    "pos_jupiter=778547200\n",
    "\n",
    "print(abs(pos_tierra-pos_jupiter), \"Kilometros\")\n",
    "print(abs(pos_jupiter-pos_tierra)* 0.621 , \"Millas\")"
   ]
  },
  {
   "cell_type": "markdown",
   "metadata": {},
   "source": [
    "Ejercicio No.2\n",
    "\n",
    "Conversión de cadenas y uso de valores absolutos"
   ]
  },
  {
   "cell_type": "code",
   "execution_count": 29,
   "metadata": {},
   "outputs": [
    {
     "name": "stdout",
     "output_type": "stream",
     "text": [
      "Distancia entre los planetas en Km:  78300000 Kilometros\n",
      "Distancia entre los planetas en m:  48624300.0 Millas\n"
     ]
    }
   ],
   "source": [
    "num1=int(input(\"Introduce la distancia del primer planeta en Km: \"))\n",
    "num2=int(input(\"Introduce la distancia del segundo planeta en Km: \"))\n",
    "\n",
    "dis=abs(num1-num2)\n",
    "dis2=abs(num1-num2)*0.621\n",
    "print(\"Distancia entre los planetas en Km: \",dis , \"Kilometros\")\n",
    "print(\"Distancia entre los planetas en m: \",dis2 , \"Millas\")\n"
   ]
  }
 ],
 "metadata": {
  "interpreter": {
   "hash": "5c5a984633f22264aa8815d65eacb6fdbfea32288cfd52e1b827510b24f8641a"
  },
  "kernelspec": {
   "display_name": "Python 3.10.2 64-bit",
   "language": "python",
   "name": "python3"
  },
  "language_info": {
   "codemirror_mode": {
    "name": "ipython",
    "version": 3
   },
   "file_extension": ".py",
   "mimetype": "text/x-python",
   "name": "python",
   "nbconvert_exporter": "python",
   "pygments_lexer": "ipython3",
   "version": "3.10.2"
  },
  "orig_nbformat": 4
 },
 "nbformat": 4,
 "nbformat_minor": 2
}
