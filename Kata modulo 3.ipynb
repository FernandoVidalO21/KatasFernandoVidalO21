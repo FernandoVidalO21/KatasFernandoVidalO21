{
 "cells": [
  {
   "cell_type": "markdown",
   "metadata": {},
   "source": [
    "Problema No. 1"
   ]
  },
  {
   "cell_type": "code",
   "execution_count": 3,
   "metadata": {},
   "outputs": [
    {
     "name": "stdout",
     "output_type": "stream",
     "text": [
      "ADVERTENCIA: Asteroide a gran velocidad\n"
     ]
    }
   ],
   "source": [
    "velocidad_maxima_asteroide=25\n",
    "velodidad_actual_asteroide=49\n",
    "\n",
    "if velodidad_actual_asteroide>velocidad_maxima_asteroide:\n",
    "    print(\"ADVERTENCIA: Asteroide a gran velocidad\")\n",
    "else:\n",
    "    print(\"Asteroide a velocidad normal\")\n",
    "\n"
   ]
  },
  {
   "cell_type": "markdown",
   "metadata": {},
   "source": [
    "Problema No.2"
   ]
  },
  {
   "cell_type": "code",
   "execution_count": 10,
   "metadata": {},
   "outputs": [
    {
     "name": "stdout",
     "output_type": "stream",
     "text": [
      "ALERTA: Observar el rayo de luz en el cielo\n"
     ]
    }
   ],
   "source": [
    "velocidad_de_asteroide_para_emitir_luz=20\n",
    "velocidad_actual_asteroide=21\n",
    "\n",
    "if velocidad_actual_asteroide>velocidad_de_asteroide_para_emitir_luz:\n",
    "    print(\"ALERTA: Observar el rayo de luz en el cielo\")\n",
    "elif velocidad_actual_asteroide==velocidad_de_asteroide_para_emitir_luz:\n",
    "    print(\"ALERTA: Observar el rayo de luz en el cielo\")\n",
    "else:\n",
    "    print(\"Cielo despejado\")"
   ]
  },
  {
   "cell_type": "markdown",
   "metadata": {},
   "source": [
    "Problema No.3"
   ]
  },
  {
   "cell_type": "code",
   "execution_count": 34,
   "metadata": {},
   "outputs": [
    {
     "name": "stdout",
     "output_type": "stream",
     "text": [
      "ADVERTENCIA: Asteroide de gran tamaño a velocidad elevada! \n",
      "             Observar el rayo de luz en el cielo!\n"
     ]
    }
   ],
   "source": [
    "tamaño_promedio_asteroide=25\n",
    "tamaño_asteroide=30\n",
    "tamaño_maximo_asteroide=1000\n",
    "velocidad_limite_asteroide=20\n",
    "velocidad_actual_asteroide=30\n",
    "\n",
    "\n",
    "if tamaño_asteroide>tamaño_promedio_asteroide and velocidad_actual_asteroide>velocidad_limite_asteroide:\n",
    "    print(\"ADVERTENCIA: Asteroide de gran tamaño a velocidad elevada! \\n             Observar el rayo de luz en el cielo!\")\n",
    "elif tamaño_asteroide>tamaño_promedio_asteroide:\n",
    "    print(\"ADVERTENCIA: Asteroide de gran tamaño!\")\n",
    "elif velocidad_actual_asteroide>=velocidad_limite_asteroide:\n",
    "    print(\"ALERTA: Observar el rayo de luz en el cielo!\")\n",
    "else:\n",
    "    print(\"No hay peligro\")"
   ]
  }
 ],
 "metadata": {
  "interpreter": {
   "hash": "5c5a984633f22264aa8815d65eacb6fdbfea32288cfd52e1b827510b24f8641a"
  },
  "kernelspec": {
   "display_name": "Python 3.10.2 64-bit",
   "language": "python",
   "name": "python3"
  },
  "language_info": {
   "codemirror_mode": {
    "name": "ipython",
    "version": 3
   },
   "file_extension": ".py",
   "mimetype": "text/x-python",
   "name": "python",
   "nbconvert_exporter": "python",
   "pygments_lexer": "ipython3",
   "version": "3.10.2"
  },
  "orig_nbformat": 4
 },
 "nbformat": 4,
 "nbformat_minor": 2
}
